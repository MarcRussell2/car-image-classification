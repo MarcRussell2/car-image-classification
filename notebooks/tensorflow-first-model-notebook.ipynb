{
 "cells": [
  {
   "cell_type": "code",
   "execution_count": null,
   "metadata": {},
   "outputs": [],
   "source": [
    "import os\n",
    "import re\n",
    "import sys\n",
    "import pdb\n",
    "import time\n",
    "import numpy as np\n",
    "import pandas as pd\n",
    "import matplotlib.pyplot as plt\n",
    "\n",
    "sys.path.append('../src')\n",
    "from main import ImagePipeline\n",
    "\n",
    "plt.rcParams.update({'font.size': 22}) # for Frank\n",
    "plt.style.use('ggplot') # for not blue\n",
    "np.random.seed(42)  # Don't Panic!\n",
    "\n",
    "from skimage import color, transform, restoration, io, feature, img_as_ubyte\n",
    "\n",
    "from tensorflow import keras\n",
    "from tensorflow.keras.models import Sequential\n",
    "from tensorflow.keras.layers import Dense, Dropout, Activation, Flatten\n",
    "from tensorflow.keras.layers import Convolution2D, MaxPooling2D\n",
    "from tensorflow.keras.utils import to_categorical\n",
    "from tensorflow.keras import backend as K\n",
    "from sklearn.model_selection import train_test_split"
   ]
  },
  {
   "cell_type": "code",
   "execution_count": null,
   "metadata": {},
   "outputs": [],
   "source": [
    "ip = ImagePipeline('../data/subsubset')\n",
    "ip.read()"
   ]
  },
  {
   "cell_type": "code",
   "execution_count": null,
   "metadata": {
    "scrolled": true
   },
   "outputs": [],
   "source": [
    "# transformations = [rgb2gray, sobel, canny, denoise_tv_chambolle, denoise_bilateral]\n",
    "ip.resize(shape = (64, 64, 3), save=False)\n",
    "ip.grayscale()"
   ]
  },
  {
   "cell_type": "code",
   "execution_count": null,
   "metadata": {
    "scrolled": true
   },
   "outputs": [],
   "source": [
    "ip.save('gray_64')"
   ]
  },
  {
   "cell_type": "code",
   "execution_count": null,
   "metadata": {
    "scrolled": false
   },
   "outputs": [],
   "source": [
    "X, y = ip.prep_X_y()"
   ]
  },
  {
   "cell_type": "code",
   "execution_count": null,
   "metadata": {},
   "outputs": [],
   "source": [
    "# Test/Train 80/20 Split\n",
    "X_train, X_test, y_train, y_test = train_test_split(X, \n",
    "                                                    y, \n",
    "                                                    test_size=0.2, \n",
    "                                                    random_state=42)"
   ]
  },
  {
   "cell_type": "code",
   "execution_count": null,
   "metadata": {},
   "outputs": [],
   "source": [
    "# transformations = [rgb2gray, sobel, canny, denoise_tv_chambolle, denoise_bilateral]\n",
    "\n",
    "ip.resize(shape = (64, 64, 3), save=False)\n",
    "ip.grayscale()\n",
    "ip.save('test_1')\n",
    "X, y = ip.prep_total_pipeline()\n",
    "X_train, X_test, y_train, y_test = train_test_split(X, y, test_size=0.2, random_state=42)\n",
    "\n",
    "\n",
    "# convert class vectors to binary class matrices (don't change)\n",
    "Y_train = np_utils.to_categorical(y_train, num_classes) # cool\n",
    "Y_test = np_utils.to_categorical(y_test, num_classes)   # cool * 2\n",
    "\n",
    "# new doc \n",
    "# https://github.com/GalvanizeDataScience/lectures/blob/Denver/convolutional-neural-nets/frank-burkholder/keras_example_cifar10.py\n",
    "\n",
    "X_train, X_test, y_train, y_test = load_and_featurize_data()\n",
    "input_shape = X_train.shape[1:]\n",
    "\n",
    "model = define_model(num_classes, input_shape)\n",
    "\n",
    "model = compile_model(model, gd_optimizer)\n",
    "\n",
    "model = train_model(model, data_augmentation, batch_size, epochs, \n",
    "                    X_train, X_test, y_train, y_test)\n",
    "\n",
    "save_model(model, save_dir, model_name)\n",
    "\n",
    "evaluate_model(model, X_test, y_test)\n"
   ]
  }
 ],
 "metadata": {
  "kernelspec": {
   "display_name": "Python 3",
   "language": "python",
   "name": "python3"
  },
  "language_info": {
   "codemirror_mode": {
    "name": "ipython",
    "version": 3
   },
   "file_extension": ".py",
   "mimetype": "text/x-python",
   "name": "python",
   "nbconvert_exporter": "python",
   "pygments_lexer": "ipython3",
   "version": "3.5.2"
  }
 },
 "nbformat": 4,
 "nbformat_minor": 2
}
